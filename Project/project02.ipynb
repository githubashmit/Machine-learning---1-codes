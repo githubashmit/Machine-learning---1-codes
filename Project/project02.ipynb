{
 "cells": [
  {
   "cell_type": "code",
   "execution_count": 1,
   "id": "a17545c2",
   "metadata": {},
   "outputs": [
    {
     "name": "stdout",
     "output_type": "stream",
     "text": [
      "Excel file created successfully: wine_quality_data.xlsx\n"
     ]
    }
   ],
   "source": [
    "import pandas as pd\n",
    "\n",
    "# URL of the Wine Quality dataset\n",
    "url = \"https://archive.ics.uci.edu/ml/machine-learning-databases/wine-quality/winequality-red.csv\"\n",
    "\n",
    "# Read the CSV file into a pandas DataFrame\n",
    "wine_quality_data = pd.read_csv(url, sep=\";\")\n",
    "\n",
    "# Define the path and filename for the Excel file\n",
    "excel_filename = \"wine_quality_data.xlsx\"\n",
    "\n",
    "# Write the DataFrame to an Excel file\n",
    "wine_quality_data.to_excel(excel_filename, index=False)\n",
    "\n",
    "print(\"Excel file created successfully:\", excel_filename)\n"
   ]
  },
  {
   "cell_type": "code",
   "execution_count": null,
   "id": "ed2d89a6",
   "metadata": {},
   "outputs": [],
   "source": []
  }
 ],
 "metadata": {
  "kernelspec": {
   "display_name": "Python 3 (ipykernel)",
   "language": "python",
   "name": "python3"
  },
  "language_info": {
   "codemirror_mode": {
    "name": "ipython",
    "version": 3
   },
   "file_extension": ".py",
   "mimetype": "text/x-python",
   "name": "python",
   "nbconvert_exporter": "python",
   "pygments_lexer": "ipython3",
   "version": "3.11.5"
  }
 },
 "nbformat": 4,
 "nbformat_minor": 5
}
